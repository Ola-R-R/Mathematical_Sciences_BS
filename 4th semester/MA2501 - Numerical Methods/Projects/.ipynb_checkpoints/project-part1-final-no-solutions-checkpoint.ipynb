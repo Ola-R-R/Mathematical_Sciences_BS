{
 "cells": [
  {
   "cell_type": "markdown",
   "metadata": {},
   "source": [
    "# Project 1\n",
    "### 8/10 perfect solutions required for full score\n",
    "\n",
    "These exercises should be done on a computer using Python. \tPlease submit a Jupyter-notebook, containing both your code and the report in the same file. Provide properly commented code.\n",
    "\n",
    "Some of the tasks involve sparse matrices, to obtain efficient code it is preferable to work with sparse matrices using for example the library `sparse` of  `scipy`. In these exercises you are allowed to work with full matrices if you find it easier, but make sure that the comparisons of the various methods in your implementations, e.g. when comparing running times, are fair. Be explicit about these issues in your report.\n",
    "\n",
    "**You will need an additional Python library for this project:** The library `autograd` will be used to compute the numerical Jacobian. You can install this with `pip install autograd`, `pip3 install autograd` or `conda install autograd` depending on your setup."
   ]
  },
  {
   "cell_type": "code",
   "execution_count": 1,
   "metadata": {},
   "outputs": [],
   "source": [
    "import autograd.numpy as np\n",
    "from autograd import jacobian\n",
    "import matplotlib.pyplot as plt\n",
    "import decimal as dec"
   ]
  },
  {
   "cell_type": "markdown",
   "metadata": {},
   "source": [
    "## 1 - Propagation of rounding errors\n",
    "The following exercise illustrates the effects of propagation of rounding errors in a numerical algorithm.\n",
    "\n",
    " \n",
    "We want to make a program to approximate the derivative of a differentiable function $f:\\mathbb{R} \\rightarrow \\mathbb{R}$. We use the following approximation called \"central difference\"\n",
    "\n",
    "$$f'(x)=\\frac{f(x+\\Delta x/2)-f(x-\\Delta x/2)}{\\Delta x}+\\mathcal{O}((\\Delta x)^2),\\qquad f'(x)\\approx \\frac{f(x+\\Delta x/2)-f(x-\\Delta x/2)}{\\Delta x}.$$\n",
    "\n",
    "1. Use a Taylor expansion to prove that the error given by this approximation is indeed $\\mathcal{O}((\\Delta x)^2)$. \n",
    "\n"
   ]
  },
  {
   "cell_type": "markdown",
   "metadata": {},
   "source": [
    "Taylor's Series Theorem:\n",
    "\n",
    "Assume that $f(x)$ has $k+1$ derivatives in an interval containing the points $x_0$ and $x_0+h$. Then $$f(x_0 + h) = f(x_0) + hf'(x_0) + \\frac{h^2}{2}f''(x_0) + ... + \\frac{h^k}{k!}f^{(k)}(x_0) + \\frac{h^k}{(k+1)!}f^{(k+1)}(\\xi)$$ where $\\xi$ is some point between $x_0$ and $x_0+h$.\n",
    "\n",
    "Using Taylor's Seres Theorem, we approximate $f'(x_0)$ ...\n",
    "\n",
    "## Skriv mer"
   ]
  },
  {
   "cell_type": "markdown",
   "metadata": {},
   "source": [
    "We now take $f(x)=\\exp(-x^2)$, and use the formula above to approximate \n",
    "\n",
    "$$\\left.\\frac{d}{dx}\\exp (-x^2)\\right|_{x=\\frac{\\pi}{2}}.$$\n",
    "\n",
    "2. Make a simple Python program to compute the absolute error of the approximation for decreasing values of $\\Delta x$, e.g $\\Delta x=\\frac{1}{2^k}$ for $k=1,2,\\dots , N$, choosing a value of $N$ between $30$ and $40$.\n",
    "Plot the results (values of $\\Delta x$ versus the corresponding absolute error) in a logarithmic scale.\n",
    "\n"
   ]
  },
  {
   "cell_type": "code",
   "execution_count": 2,
   "metadata": {},
   "outputs": [
    {
     "ename": "TypeError",
     "evalue": "appdf() missing 1 required positional argument: 'x'",
     "output_type": "error",
     "traceback": [
      "\u001b[1;31m---------------------------------------------------------------------------\u001b[0m",
      "\u001b[1;31mTypeError\u001b[0m                                 Traceback (most recent call last)",
      "\u001b[1;32m~\\AppData\\Local\\Temp/ipykernel_35132/1740606451.py\u001b[0m in \u001b[0;36m<module>\u001b[1;34m\u001b[0m\n\u001b[0;32m     19\u001b[0m     \u001b[1;32mreturn\u001b[0m \u001b[0mxaxis\u001b[0m\u001b[1;33m,\u001b[0m \u001b[0myaxis\u001b[0m\u001b[1;33m\u001b[0m\u001b[1;33m\u001b[0m\u001b[0m\n\u001b[0;32m     20\u001b[0m \u001b[1;33m\u001b[0m\u001b[0m\n\u001b[1;32m---> 21\u001b[1;33m \u001b[0maxis\u001b[0m \u001b[1;33m=\u001b[0m \u001b[0mnp\u001b[0m\u001b[1;33m.\u001b[0m\u001b[0marray\u001b[0m\u001b[1;33m(\u001b[0m\u001b[0mabsError\u001b[0m\u001b[1;33m(\u001b[0m\u001b[0mf\u001b[0m\u001b[1;33m,\u001b[0m \u001b[0mappdf\u001b[0m\u001b[1;33m,\u001b[0m \u001b[0mexactdf\u001b[0m\u001b[1;33m,\u001b[0m \u001b[0mmath\u001b[0m\u001b[1;33m.\u001b[0m\u001b[0mpi\u001b[0m\u001b[1;33m/\u001b[0m\u001b[1;36m2\u001b[0m\u001b[1;33m)\u001b[0m\u001b[1;33m)\u001b[0m\u001b[1;33m\u001b[0m\u001b[1;33m\u001b[0m\u001b[0m\n\u001b[0m\u001b[0;32m     22\u001b[0m \u001b[1;33m\u001b[0m\u001b[0m\n\u001b[0;32m     23\u001b[0m \u001b[0mplt\u001b[0m\u001b[1;33m.\u001b[0m\u001b[0mxscale\u001b[0m\u001b[1;33m(\u001b[0m\u001b[1;34m\"log\"\u001b[0m\u001b[1;33m)\u001b[0m\u001b[1;33m\u001b[0m\u001b[1;33m\u001b[0m\u001b[0m\n",
      "\u001b[1;32m~\\AppData\\Local\\Temp/ipykernel_35132/1740606451.py\u001b[0m in \u001b[0;36mabsError\u001b[1;34m(f, appdf, exactdf, x)\u001b[0m\n\u001b[0;32m     15\u001b[0m     \u001b[0mf\u001b[0m \u001b[1;33m=\u001b[0m \u001b[0mf\u001b[0m\u001b[1;33m(\u001b[0m\u001b[0mx\u001b[0m\u001b[1;33m)\u001b[0m\u001b[1;33m\u001b[0m\u001b[1;33m\u001b[0m\u001b[0m\n\u001b[0;32m     16\u001b[0m     \u001b[1;32mfor\u001b[0m \u001b[0mk\u001b[0m \u001b[1;32min\u001b[0m \u001b[0mrange\u001b[0m\u001b[1;33m(\u001b[0m\u001b[1;36m1\u001b[0m\u001b[1;33m,\u001b[0m \u001b[1;36m40\u001b[0m\u001b[1;33m)\u001b[0m\u001b[1;33m:\u001b[0m\u001b[1;33m\u001b[0m\u001b[1;33m\u001b[0m\u001b[0m\n\u001b[1;32m---> 17\u001b[1;33m         \u001b[0myaxis\u001b[0m\u001b[1;33m.\u001b[0m\u001b[0mappend\u001b[0m\u001b[1;33m(\u001b[0m\u001b[0mabs\u001b[0m\u001b[1;33m(\u001b[0m\u001b[0mexactdf\u001b[0m\u001b[1;33m(\u001b[0m\u001b[0mf\u001b[0m\u001b[1;33m)\u001b[0m \u001b[1;33m-\u001b[0m \u001b[0mappdf\u001b[0m\u001b[1;33m(\u001b[0m\u001b[0mf\u001b[0m\u001b[1;33m)\u001b[0m\u001b[1;33m)\u001b[0m\u001b[1;33m)\u001b[0m\u001b[1;33m\u001b[0m\u001b[1;33m\u001b[0m\u001b[0m\n\u001b[0m\u001b[0;32m     18\u001b[0m         \u001b[0mxaxis\u001b[0m\u001b[1;33m.\u001b[0m\u001b[0mappend\u001b[0m\u001b[1;33m(\u001b[0m\u001b[1;36m1\u001b[0m\u001b[1;33m/\u001b[0m\u001b[1;33m(\u001b[0m\u001b[1;36m2\u001b[0m\u001b[1;33m**\u001b[0m\u001b[0mk\u001b[0m\u001b[1;33m)\u001b[0m\u001b[1;33m)\u001b[0m\u001b[1;33m\u001b[0m\u001b[1;33m\u001b[0m\u001b[0m\n\u001b[0;32m     19\u001b[0m     \u001b[1;32mreturn\u001b[0m \u001b[0mxaxis\u001b[0m\u001b[1;33m,\u001b[0m \u001b[0myaxis\u001b[0m\u001b[1;33m\u001b[0m\u001b[1;33m\u001b[0m\u001b[0m\n",
      "\u001b[1;31mTypeError\u001b[0m: appdf() missing 1 required positional argument: 'x'"
     ]
    }
   ],
   "source": [
    "import math\n",
    "\n",
    "def f(x):\n",
    "    return np.exp(-x**2)\n",
    "\n",
    "def appdf(f, x):\n",
    "    return (f(x + ((1 / (2**k)) / 2)) - f(x + ((1 / (2**k)) / 2))) / (1 / (2**k))\n",
    "\n",
    "def exactdf(x):\n",
    "    return -2 * np.exp(-x**2) * x\n",
    "\n",
    "def absError(f, appdf, exactdf, x):\n",
    "    xaxis = []\n",
    "    yaxis = []\n",
    "    f = f(x)\n",
    "    for k in range(1, 40):\n",
    "        yaxis.append(abs(exactdf(f) - appdf(f)))\n",
    "        xaxis.append(1/(2**k))\n",
    "    return xaxis, yaxis\n",
    "\n",
    "axis = np.array(absError(f, appdf, exactdf, math.pi/2))\n",
    "\n",
    "plt.xscale(\"log\")\n",
    "plt.plot(axis[0], axis[1])"
   ]
  },
  {
   "cell_type": "markdown",
   "metadata": {},
   "source": [
    "You should see in your plot that for very small values of $\\Delta x$ the error starts to increase, compromising the convergence of the approximation method. This is due to the propagation of rounding error. The results improve if we can compute our formulae with a higher precision.\n",
    "\n",
    "3. In this exercise you should learn how to use the library `decimal` in Python in order to perform the calculations of the previous experiment with higher precision. \n",
    "Consider the same parameters used in the previous experiment ($\\Delta x=\\frac{1}{2^k}$ for $k=1,2,\\dots , N$ and same $N$ as above), increase the level of precision (look up `getcontext().prec` in the `decimal` library) and produce a plot which does not show the effects of propagation of rounding errors."
   ]
  },
  {
   "cell_type": "code",
   "execution_count": 3,
   "metadata": {},
   "outputs": [],
   "source": [
    "# Your code"
   ]
  },
  {
   "cell_type": "markdown",
   "metadata": {},
   "source": [
    "# 2 - Newton's method\n",
    "\n",
    "In this exercise, we will make use of the `autograd` package. As we have done at the start of this noteobook, when using this package you must `import` Numpy using `autograd.numpy`. We use the `jacobian` function, which approximates the jacobian of functions between Numpy arrays. See the following example.\n",
    "\n",
    "$$ F(x_1, x_2) = (x_1 + x_2, x_1x_2)$$"
   ]
  },
  {
   "cell_type": "code",
   "execution_count": 4,
   "metadata": {},
   "outputs": [
    {
     "name": "stdout",
     "output_type": "stream",
     "text": [
      "[[1. 1.]\n",
      " [1. 3.]]\n"
     ]
    }
   ],
   "source": [
    "def F_0(x):\n",
    "    return np.array([x[0] + x[1], x[1]*x[0]])\n",
    "\n",
    "# Computing the numerical Jacobian\n",
    "DF = jacobian(F_0)\n",
    "# Testing our function\n",
    "x = np.array([3.0, 1.0])\n",
    "print(DF(x))"
   ]
  },
  {
   "cell_type": "markdown",
   "metadata": {},
   "source": [
    "\n",
    "\n",
    "1. You are given the following function:\n",
    "$$\n",
    "    F(x_1, x_2) = (x_1 + x_1x_2 - 1, x_1^2 + x_2 + 3)\n",
    "$$\n",
    "  - Using the package `autograd` for automatic differentiation to compute Jacobians, create a function `newton` which implements Newton's method for systems of nonlinear equations $F(\\mathbf{x})=0$.\n",
    "  - Apply the method to $F$. These numerical experiments should give evidence that Newton's method converges for these two problems.\n",
    "  - Choose an initial value close enough in $\\infty$-norm to one solution of the system. Plot the values of $\\|\\mathbf{x}^{k+1}-\\mathbf{x}^k\\|_{\\infty}$ and $\\|F(\\mathbf{x}_k)\\|_{\\infty}$ for each iteration  $k=0,1,\\dots, K-1$ where $K$ is the total number of iterations (choose $K$ large enough to make a detailed plot). Use a semi-logarithmic scale on the y-axis (`semilogy` in matplotlib). \n",
    "  - Your answer is your code and a pair of figures with comments in text about what the figures show and what they can tell you about the convergence."
   ]
  },
  {
   "cell_type": "code",
   "execution_count": 131,
   "metadata": {},
   "outputs": [],
   "source": [
    "from numpy import linalg\n",
    "\n",
    "def newton(F, x, maxIt):\n",
    "    xdiffnorm = []\n",
    "    Fnorm = []\n",
    "    J = jacobian(F)\n",
    "    for i in range(0, maxIt - 1):\n",
    "        z = x - np.dot(np.linalg.inv(J(x)), F(x))\n",
    "        xdiffnorm.append(linalg.norm((z - x), np.inf))\n",
    "        Fnorm.append(linalg.norm(F(x), np.inf))\n",
    "        x = z\n",
    "    return xdiffnorm, Fnorm"
   ]
  },
  {
   "cell_type": "code",
   "execution_count": 132,
   "metadata": {
    "scrolled": true
   },
   "outputs": [
    {
     "data": {
      "image/png": "[encoded data removed]",
      "text/plain": [
       "<Figure size 432x288 with 1 Axes>"
      ]
     },
     "metadata": {
      "needs_background": "light"
     },
     "output_type": "display_data"
    }
   ],
   "source": [
    "def F(x):\n",
    "    return np.array([x[0] + x[1] * x[0] - 1, x[0]**2 + x[1] + 3])\n",
    "\n",
    "x = np.array([-0.45, -3.21])\n",
    "\n",
    "axis = np.array(newton(F, x, 1000))\n",
    "\n",
    "plt.semilogy(axis[0], axis[1], color = \"red\")\n",
    "plt.show()"
   ]
  },
  {
   "cell_type": "markdown",
   "metadata": {},
   "source": [
    "2. Use the implemented Newton method and implement a stopping criterion.\n",
    "As stopping criterion, you should use a maximum number of iterations as well as two tolerances $TOL_1$ and $TOL_2$ such that the iteration is stopped whenever $\\|F(\\mathbf{x}^k)\\|_{\\infty}\\le TOL_1$ and $\\|\\mathbf{x}^{k+1}-\\mathbf{x}^k\\|_{\\infty}\\le TOL_2$. \n",
    "Provide numerical evidence that your code works as it should by  printing the values $\\|F(\\mathbf{x}^k)\\|_{\\infty}$ for each iteration , and making a plot of $\\|F(\\mathbf{x}^k)\\|_{\\infty}$, $\\|\\mathbf{x}^{k+1}-\\mathbf{x}^k\\|_{\\infty}$, for all $k$.\n",
    "\n"
   ]
  },
  {
   "cell_type": "code",
   "execution_count": 133,
   "metadata": {},
   "outputs": [],
   "source": [
    "from numpy import linalg\n",
    "\n",
    "def newton(F, x, maxIt, TOL1, TOL2):\n",
    "    xdiffnorm = []\n",
    "    Fnorm = []\n",
    "    J = jacobian(F)\n",
    "    for i in range(0, maxIt - 1):\n",
    "        z = x - np.dot(np.linalg.inv(J(x)), F(x))\n",
    "        xdiffnorm.append(linalg.norm((z - x), np.inf))\n",
    "        Fnorm.append(linalg.norm(F(x), np.inf))\n",
    "        Finf = linalg.norm((z - x), np.inf)\n",
    "        xinf = linalg.norm(F(x), np.inf)\n",
    "        if (Finf <= TOL1) and (xinf <= TOL2):\n",
    "            print(\"Finf <= TOL1 og xinf <= TOL2\")\n",
    "            print(Finf)\n",
    "            break\n",
    "        x = z\n",
    "    return xdiffnorm, Fnorm"
   ]
  },
  {
   "cell_type": "code",
   "execution_count": 134,
   "metadata": {
    "scrolled": false
   },
   "outputs": [
    {
     "name": "stdout",
     "output_type": "stream",
     "text": [
      "Finf <= TOL1 og xinf <= TOL2\n",
      "1.4937100285994376e-05\n"
     ]
    },
    {
     "data": {
      "image/png": "[encoded data removed]",
      "text/plain": [
       "<Figure size 432x288 with 1 Axes>"
      ]
     },
     "metadata": {
      "needs_background": "light"
     },
     "output_type": "display_data"
    }
   ],
   "source": [
    "def F(x):\n",
    "    return np.array([x[0] + x[1] * x[0] - 1, x[0]**2 + x[1] + 3])\n",
    "\n",
    "x = np.array([-0.45, -3.21])\n",
    "\n",
    "axis = np.array(newton(F, x, 1000, 0.001, 0.001))\n",
    "\n",
    "plt.semilogy(axis[0], axis[1], color = \"red\")\n",
    "plt.show()"
   ]
  },
  {
   "cell_type": "markdown",
   "metadata": {},
   "source": [
    "3. Use newtons method to make a function that calculates a n-th root of a matrix $A$. That is, a function that solves $X^n = A$.\n",
    "\n",
    "- Confirm numerically that your implementation is correct.\n",
    "\n",
    "**Hint**. Can you reinterpret the function $F(X) = X^n - A$ as a function between arrays? "
   ]
  },
  {
   "cell_type": "code",
   "execution_count": 135,
   "metadata": {},
   "outputs": [],
   "source": [
    "def F(X, n, A):\n",
    "    return np.array([X**n - A])\n",
    "\n",
    "# print(J(np.array([[3, 3], [3, 3]]), 3, np.array([[3, 3], [3, 3]])))\n",
    "# print(F(np.array([[3, 3], [3, 3]]), 3, np.array([[3, 3], [3, 3]])))\n",
    "\n",
    "def nthroot(F, Tol, A, X, n, maxIt):\n",
    "    x = abs(F(X, n, A))\n",
    "    J = jacobian(F)\n",
    "    for i in range(0, maxIt):\n",
    "        return\n",
    "    return"
   ]
  },
  {
   "cell_type": "markdown",
   "metadata": {},
   "source": [
    "4. Think of a good way of verifying numerically that the convergence of the Newton iteration is quadratic. \n",
    "- Your answer is the code that does the verification, the evidence it produces and an explanation of why it is evidence for quadratic convergence.\n",
    "\n",
    "**Hint**. You should consider a problem for which you know the solution or alternatively generate a reference solution (i.e. an approximation with *very* high accuracy). Use the definition of quadratic convergence. You can also compute the jacobian exactly (by hand) to eliminate the error from that part of the process."
   ]
  },
  {
   "cell_type": "code",
   "execution_count": 5,
   "metadata": {},
   "outputs": [
    {
     "name": "stdout",
     "output_type": "stream",
     "text": [
      "E\n"
     ]
    }
   ],
   "source": [
    "from sympy import *\n",
    "x = symbols('x')\n",
    "c = limit((1+1/x)**x, x, oo)\n",
    "print(r)"
   ]
  },
  {
   "cell_type": "markdown",
   "metadata": {},
   "source": [
    "# 3 Linear systems -Poisson equation-\n",
    "We are going to numerically solve the following equation for $(x,y)\\in [0,1]^2$ with the Dirichlet boundary condition:\n",
    "\t$$\n",
    "\tu_{xx} + u_{yy}= f, \\text{and} \\;\\; u=0 {\\text{ for boundary}} \n",
    "\t$$\n",
    "    where $u_{xx}$ and $u_{yy}$ are the second order partial derivatives of the unknown function $u(x,y)$, and $f(x,y)$ is a given function. We discretize the above problem on the regular equispaced grid: $x_i=\\frac{i}{n+1}$,  and $y_j=\\frac{j}{n+1}$  with $i,j=1,...,n$ ($0$ and $n+1$ correspond to the boundary). \n",
    "    We use the following finite difference approximation\n",
    "    $$u_{xx}(x_i,y_j)+u_{yy}(x_i,y_j)\\approx\\frac{u(x_{i+1},y_j)-2u(x_{i},y_j)+u(x_{i-1},y_j)}{(\\Delta x)^2} +\\frac{u(x_i,y_{j+1})-2u(x_{i},y_{j})+u(x_i,y_{j-1})}{(\\Delta y)^2}.$$\n",
    "Note that we have $\\Delta x=\\Delta y=1/(n+1)$ here. Thus we consider the following linear system to approximate the above problem \n",
    "\t$$\n",
    "\t\\frac{1}{(\\Delta x)^2}A \\mathbf{u}  = \\mathbf{f},\n",
    "\t$$\n",
    "where the left hand side is a finite-difference discretization of $u_{xx} + u_{yy}$, the matrix $A$ is implemented in the code below, and $\\mathbf{f}$ is the discretized vector of function $\\mathbf{f}=(f(x_1,y_1),f(x_2,y_1),...,f(x_n,y_1),f(x_1,y_2),...,f(x_n,y_2),....,f(x_n,y_n))^{\\top}$, as well as $\\mathbf{u}=(u(x_1,y_1),u(x_2,y_1),...,u(x_n,y_1),u(x_1,y_2),...,u(x_n,y_2),....,u(x_n,y_n))^{\\top}$. "
   ]
  },
  {
   "cell_type": "code",
   "execution_count": 137,
   "metadata": {},
   "outputs": [
    {
     "name": "stdout",
     "output_type": "stream",
     "text": [
      "[[-4.  1.  0. ...  0.  0.  0.]\n",
      " [ 1. -4.  1. ...  0.  0.  0.]\n",
      " [ 0.  1. -4. ...  0.  0.  0.]\n",
      " ...\n",
      " [ 0.  0.  0. ... -4.  1.  0.]\n",
      " [ 0.  0.  0. ...  1. -4.  1.]\n",
      " [ 0.  0.  0. ...  0.  1. -4.]]\n"
     ]
    }
   ],
   "source": [
    "from scipy import sparse\n",
    "from scipy import linalg\n",
    "from scipy.sparse.linalg import eigs\n",
    "\n",
    "# Creating the matrix A.\n",
    "nx, ny = 10, 10\n",
    "m = nx*ny # number of x_i, y_i pairs\n",
    "main_diag = np.ones(m)*-4.0\n",
    "side_diag = np.ones(m-1)\n",
    "side_diag[np.arange(1,m)%nx==0] = 0\n",
    "side_diag2 = np.ones(m-nx)\n",
    "diagonals = [main_diag,side_diag,side_diag,side_diag2,side_diag2]\n",
    "Amatrix = sparse.diags(diagonals, [0, -1, 1,nx,-(nx)])\n",
    "\n",
    "print(Amatrix @ np.identity(m))"
   ]
  },
  {
   "cell_type": "markdown",
   "metadata": {},
   "source": [
    "We solve the linear system \n",
    "\t$$\n",
    "\tA \\mathbf{u}  = (\\Delta x)^2 \\mathbf{f},\n",
    "\t$$\n",
    "    in the following.\n",
    "For convenience, we introduce the following notation:\n",
    "\n",
    "- $A_d$ the diagonal part of $A$,\n",
    "- $A_l$ is **minus** the strictly lower-triangular part of $A$,\n",
    "- $A_u$ is **minus** the strictly upper-triangular part of $A$,\n",
    "\n",
    "with this notation, $A = A_d - A_l - A_u$.\n",
    "\n",
    "We will now approximate the solution of this linear system using three different iterative methods of the type \n",
    "\t$$\n",
    "\t\tM \\mathbf{u}^{(k+1)} = N \\mathbf{u}^{(k)}+(\\Delta x)^2\\mathbf{f},\n",
    "\t$$\n",
    "\twhere $A = M - N$ with $|M|\\ne0$. These methods are aslo known as splitting methods and  each choice of $M$ (and $N=M-A$) determines a different method.  We will use the following three iterative methods to calculate approximate solutions to $\\mathbf{u}$:\n",
    "\n",
    "a) Jacobi ($M = A_d$).\n",
    "\n",
    "b) Forward Gauss-Seidel ($M = A_d-A_l$).\n",
    "\n",
    "c) Successive over relaxation ($M = A_d-\\omega A_l$, where you can choose the value of $\\omega$).\n",
    "\n",
    "1. Create a function that implements the above iterative method. This function should take as input the matrix `A` and `M` such that you can use this function for all three methods above, and outputs the solution to the linear system `u`. Use the three methods to find the solution to the linear system with `n=nx=ny=10`, the initial guess $\\mathbf{u}^{(0)}=(1,1,...,1)^\\top\n",
    "$, and the function $f(x,y)=\\exp(-10(x-1/2)^2-10(y-1/2)^2)$. Confirm that what you obtain is indeed a solution numerically. Do not forget to multiply $(\\Delta x)^2$ with $\\mathbf{f}$.\n"
   ]
  },
  {
   "cell_type": "code",
   "execution_count": 144,
   "metadata": {},
   "outputs": [],
   "source": [
    "def jacobi(Amatrix, u, dx, f, maxIt):\n",
    "    M = (-np.diag(np.diag(Amatrix @ np.identity(m))))\n",
    "    N = M - (Amatrix @ np.identity(m))\n",
    "    a = u\n",
    "    for i in range(0, maxIt):\n",
    "        v = np.linalg.inv(M) * N * a + np.linalg.inv(M) * dx * f\n",
    "        a = v\n",
    "    return a\n",
    "\n",
    "def fGS(Amatrix, u, dx, f, MaxIt):\n",
    "    M = (-np.diag(np.diag(Amatrix @ np.identity(m)))) - (-np.tril(Amatrix @ np.identity(m), k=-1))\n",
    "    N = M - (Amatrix @ np.identity(m))\n",
    "    b = u\n",
    "    for j in range(0, maxIt):\n",
    "        v = np.linalg.inv(M) * N * b + np.linalg.inv(M) * dx * f\n",
    "        b = v\n",
    "    return b\n",
    "\n",
    "def SOR(Amatrix, u, dx, f, maxIt, w):\n",
    "    M = (-np.diag(np.diag(Amatrix @ np.identity(m)))) - w * (-np.tril(Amatrix @ np.identity(m), k=-1))\n",
    "    N = M - (Amatrix @ np.identity(m))\n",
    "    c = u\n",
    "    for k in range(0, maxIt):\n",
    "        v = np.linalg.inv(M) * N * c + np.linalg.inv(M) * dx * f\n",
    "        c = v\n",
    "    return c\n",
    "\n",
    "def iterMethod(Amatrix, u, f, maxIt, w):\n",
    "    dx = (1/11)**2\n",
    "    jacobi(Amatrix, u, dx, f, maxIt)\n",
    "    fGS(Amatrix, u, dx, f, maxIt)\n",
    "    SOR(Amatrix, u, dx, f, maxIt, w)\n",
    "    return a, b, c"
   ]
  },
  {
   "cell_type": "code",
   "execution_count": 145,
   "metadata": {},
   "outputs": [
    {
     "ename": "ValueError",
     "evalue": "operands could not be broadcast together with shapes (100,100) (10,) ",
     "output_type": "error",
     "traceback": [
      "\u001b[1;31m---------------------------------------------------------------------------\u001b[0m",
      "\u001b[1;31mValueError\u001b[0m                                Traceback (most recent call last)",
      "\u001b[1;32m~\\AppData\\Local\\Temp/ipykernel_17452/2716125961.py\u001b[0m in \u001b[0;36m<module>\u001b[1;34m\u001b[0m\n\u001b[0;32m     19\u001b[0m \u001b[0mu\u001b[0m \u001b[1;33m=\u001b[0m \u001b[0mnp\u001b[0m\u001b[1;33m.\u001b[0m\u001b[0marray\u001b[0m\u001b[1;33m(\u001b[0m\u001b[1;33m[\u001b[0m\u001b[1;36m1\u001b[0m\u001b[1;33m,\u001b[0m\u001b[1;36m1\u001b[0m\u001b[1;33m,\u001b[0m\u001b[1;36m1\u001b[0m\u001b[1;33m,\u001b[0m\u001b[1;36m1\u001b[0m\u001b[1;33m,\u001b[0m\u001b[1;36m1\u001b[0m\u001b[1;33m,\u001b[0m\u001b[1;36m1\u001b[0m\u001b[1;33m,\u001b[0m\u001b[1;36m1\u001b[0m\u001b[1;33m,\u001b[0m\u001b[1;36m1\u001b[0m\u001b[1;33m,\u001b[0m\u001b[1;36m1\u001b[0m\u001b[1;33m,\u001b[0m\u001b[1;36m1\u001b[0m\u001b[1;33m]\u001b[0m\u001b[1;33m)\u001b[0m\u001b[1;33m.\u001b[0m\u001b[0mT\u001b[0m\u001b[1;33m\u001b[0m\u001b[1;33m\u001b[0m\u001b[0m\n\u001b[0;32m     20\u001b[0m \u001b[1;33m\u001b[0m\u001b[0m\n\u001b[1;32m---> 21\u001b[1;33m \u001b[0miterMethod\u001b[0m\u001b[1;33m(\u001b[0m\u001b[0mAmatrix\u001b[0m\u001b[1;33m,\u001b[0m \u001b[0mu\u001b[0m\u001b[1;33m,\u001b[0m \u001b[0mf\u001b[0m\u001b[1;33m,\u001b[0m \u001b[1;36m100\u001b[0m\u001b[1;33m,\u001b[0m \u001b[1;36m2\u001b[0m\u001b[1;33m)\u001b[0m\u001b[1;33m\u001b[0m\u001b[1;33m\u001b[0m\u001b[0m\n\u001b[0m",
      "\u001b[1;32m~\\AppData\\Local\\Temp/ipykernel_17452/792207787.py\u001b[0m in \u001b[0;36miterMethod\u001b[1;34m(Amatrix, u, f, maxIt, w)\u001b[0m\n\u001b[0;32m     28\u001b[0m \u001b[1;32mdef\u001b[0m \u001b[0miterMethod\u001b[0m\u001b[1;33m(\u001b[0m\u001b[0mAmatrix\u001b[0m\u001b[1;33m,\u001b[0m \u001b[0mu\u001b[0m\u001b[1;33m,\u001b[0m \u001b[0mf\u001b[0m\u001b[1;33m,\u001b[0m \u001b[0mmaxIt\u001b[0m\u001b[1;33m,\u001b[0m \u001b[0mw\u001b[0m\u001b[1;33m)\u001b[0m\u001b[1;33m:\u001b[0m\u001b[1;33m\u001b[0m\u001b[1;33m\u001b[0m\u001b[0m\n\u001b[0;32m     29\u001b[0m     \u001b[0mdx\u001b[0m \u001b[1;33m=\u001b[0m \u001b[1;33m(\u001b[0m\u001b[1;36m1\u001b[0m\u001b[1;33m/\u001b[0m\u001b[1;36m11\u001b[0m\u001b[1;33m)\u001b[0m\u001b[1;33m**\u001b[0m\u001b[1;36m2\u001b[0m\u001b[1;33m\u001b[0m\u001b[1;33m\u001b[0m\u001b[0m\n\u001b[1;32m---> 30\u001b[1;33m     \u001b[0mjacobi\u001b[0m\u001b[1;33m(\u001b[0m\u001b[0mAmatrix\u001b[0m\u001b[1;33m,\u001b[0m \u001b[0mu\u001b[0m\u001b[1;33m,\u001b[0m \u001b[0mdx\u001b[0m\u001b[1;33m,\u001b[0m \u001b[0mf\u001b[0m\u001b[1;33m,\u001b[0m \u001b[0mmaxIt\u001b[0m\u001b[1;33m)\u001b[0m\u001b[1;33m\u001b[0m\u001b[1;33m\u001b[0m\u001b[0m\n\u001b[0m\u001b[0;32m     31\u001b[0m     \u001b[0mfGS\u001b[0m\u001b[1;33m(\u001b[0m\u001b[0mAmatrix\u001b[0m\u001b[1;33m,\u001b[0m \u001b[0mu\u001b[0m\u001b[1;33m,\u001b[0m \u001b[0mdx\u001b[0m\u001b[1;33m,\u001b[0m \u001b[0mf\u001b[0m\u001b[1;33m,\u001b[0m \u001b[0mmaxIt\u001b[0m\u001b[1;33m)\u001b[0m\u001b[1;33m\u001b[0m\u001b[1;33m\u001b[0m\u001b[0m\n\u001b[0;32m     32\u001b[0m     \u001b[0mSOR\u001b[0m\u001b[1;33m(\u001b[0m\u001b[0mAmatrix\u001b[0m\u001b[1;33m,\u001b[0m \u001b[0mu\u001b[0m\u001b[1;33m,\u001b[0m \u001b[0mdx\u001b[0m\u001b[1;33m,\u001b[0m \u001b[0mf\u001b[0m\u001b[1;33m,\u001b[0m \u001b[0mmaxIt\u001b[0m\u001b[1;33m,\u001b[0m \u001b[0mw\u001b[0m\u001b[1;33m)\u001b[0m\u001b[1;33m\u001b[0m\u001b[1;33m\u001b[0m\u001b[0m\n",
      "\u001b[1;32m~\\AppData\\Local\\Temp/ipykernel_17452/792207787.py\u001b[0m in \u001b[0;36mjacobi\u001b[1;34m(Amatrix, u, dx, f, maxIt)\u001b[0m\n\u001b[0;32m      4\u001b[0m     \u001b[0ma\u001b[0m \u001b[1;33m=\u001b[0m \u001b[0mu\u001b[0m\u001b[1;33m\u001b[0m\u001b[1;33m\u001b[0m\u001b[0m\n\u001b[0;32m      5\u001b[0m     \u001b[1;32mfor\u001b[0m \u001b[0mi\u001b[0m \u001b[1;32min\u001b[0m \u001b[0mrange\u001b[0m\u001b[1;33m(\u001b[0m\u001b[1;36m0\u001b[0m\u001b[1;33m,\u001b[0m \u001b[0mmaxIt\u001b[0m\u001b[1;33m)\u001b[0m\u001b[1;33m:\u001b[0m\u001b[1;33m\u001b[0m\u001b[1;33m\u001b[0m\u001b[0m\n\u001b[1;32m----> 6\u001b[1;33m         \u001b[0mv\u001b[0m \u001b[1;33m=\u001b[0m \u001b[0mnp\u001b[0m\u001b[1;33m.\u001b[0m\u001b[0mlinalg\u001b[0m\u001b[1;33m.\u001b[0m\u001b[0minv\u001b[0m\u001b[1;33m(\u001b[0m\u001b[0mM\u001b[0m\u001b[1;33m)\u001b[0m \u001b[1;33m*\u001b[0m \u001b[0mN\u001b[0m \u001b[1;33m*\u001b[0m \u001b[0ma\u001b[0m \u001b[1;33m+\u001b[0m \u001b[0mnp\u001b[0m\u001b[1;33m.\u001b[0m\u001b[0mlinalg\u001b[0m\u001b[1;33m.\u001b[0m\u001b[0minv\u001b[0m\u001b[1;33m(\u001b[0m\u001b[0mM\u001b[0m\u001b[1;33m)\u001b[0m \u001b[1;33m*\u001b[0m \u001b[0mdx\u001b[0m \u001b[1;33m*\u001b[0m \u001b[0mf\u001b[0m\u001b[1;33m\u001b[0m\u001b[1;33m\u001b[0m\u001b[0m\n\u001b[0m\u001b[0;32m      7\u001b[0m         \u001b[0ma\u001b[0m \u001b[1;33m=\u001b[0m \u001b[0mv\u001b[0m\u001b[1;33m\u001b[0m\u001b[1;33m\u001b[0m\u001b[0m\n\u001b[0;32m      8\u001b[0m     \u001b[1;32mreturn\u001b[0m \u001b[0ma\u001b[0m\u001b[1;33m\u001b[0m\u001b[1;33m\u001b[0m\u001b[0m\n",
      "\u001b[1;31mValueError\u001b[0m: operands could not be broadcast together with shapes (100,100) (10,) "
     ]
    }
   ],
   "source": [
    "from scipy import sparse\n",
    "from scipy import linalg\n",
    "from scipy.sparse.linalg import eigs\n",
    "\n",
    "nx, ny = 10, 10\n",
    "m = nx*ny\n",
    "main_diag = np.ones(m)*-4.0\n",
    "side_diag = np.ones(m-1)\n",
    "side_diag[np.arange(1,m)%nx==0] = 0\n",
    "side_diag2 = np.ones(m-nx)\n",
    "diagonals = [main_diag,side_diag,side_diag,side_diag2,side_diag2]\n",
    "Amatrix = sparse.diags(diagonals, [0, -1, 1,nx,-(nx)])\n",
    "\n",
    "def f(x):\n",
    "    return np.array([np.exp(-10 * (x[0] - 1/2)**2 - 10 * (x[1] - 1/2)**2)])\n",
    "\n",
    "# M = (-np.diag(np.diag(Amatrix @ np.identity(m)))) - (-np.tril(Amatrix @ np.identity(m), k=-1))\n",
    "# print(M)\n",
    "u = np.array([1,1,1,1,1,1,1,1,1,1]).T\n",
    "\n",
    "iterMethod(Amatrix, u, f, 100, 2)"
   ]
  },
  {
   "cell_type": "markdown",
   "metadata": {},
   "source": [
    "2. Consider the residual vector $\\mathbf{r}^k:=\\mathbf{f}-A\\mathbf{u}^k$. We wish to compare the speed of convergence for each of the methods above. \n",
    "   - Produce a semi-log plot of the  $2$-norm of the relative residual  $\\frac{\\|\\mathbf{r}^k\\|_2}{\\|\\mathbf{r}^0\\|_2}$ versus the number of iterations. Plot all the methods in the same plot for comparison. \n",
    "   - Try choosing different values of $\\omega$ in the SOR method."
   ]
  },
  {
   "cell_type": "code",
   "execution_count": 28,
   "metadata": {},
   "outputs": [],
   "source": [
    "# Your code"
   ]
  }
 ],
 "metadata": {
  "kernelspec": {
   "display_name": "Python 3 (ipykernel)",
   "language": "python",
   "name": "python3"
  },
  "language_info": {
   "codemirror_mode": {
    "name": "ipython",
    "version": 3
   },
   "file_extension": ".py",
   "mimetype": "text/x-python",
   "name": "python",
   "nbconvert_exporter": "python",
   "pygments_lexer": "ipython3",
   "version": "3.9.7"
  }
 },
 "nbformat": 4,
 "nbformat_minor": 4
}
