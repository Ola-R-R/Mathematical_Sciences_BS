{
 "cells": [
  {
   "cell_type": "code",
   "execution_count": 2,
   "id": "5f3b5daa",
   "metadata": {},
   "outputs": [],
   "source": [
    "import numpy as np\n",
    "import math"
   ]
  },
  {
   "cell_type": "code",
   "execution_count": 3,
   "id": "3394840e",
   "metadata": {},
   "outputs": [
    {
     "name": "stdout",
     "output_type": "stream",
     "text": [
      "5.061798646899263e-09\n",
      "1.6951424975708562e-05\n",
      "-3.4321956388083663e-10\n",
      "-1.1295346439399445e-05\n"
     ]
    }
   ],
   "source": [
    "actualvalue=1-(1/math.e)\n",
    "actualvalue2=2*((np.sqrt(math.e)-1)/np.sqrt(math.e)) #We use the fact that f_2 is symmetric about 1/2 to double a \"normal\" integral\n",
    "\n",
    "def func1(x):\n",
    "    y=math.e**(-x)\n",
    "    return y\n",
    "\n",
    "def func2(x):\n",
    "    z=math.e**(-abs(x-1/2))\n",
    "    return z\n",
    "\n",
    "def list1(x):\n",
    "    newlist = list(map(func1, x))\n",
    "    return newlist\n",
    "\n",
    "def list2(x):\n",
    "    newlist = list(map(func2, x))\n",
    "    return newlist\n",
    "\n",
    "def romberg(m,f): #m intervals with length 1/m per interval, f is the function (list1 or list2)\n",
    "    Q=[]\n",
    "    for x in range(m+1):\n",
    "        Q.append(np.trapz(f(np.linspace(0,1,2**(x+1)+1)), np.linspace(0,1,2**(x+1)+1))) #We get Q_2, Q_4, Q_8, ... . Q[i]=Q_(2**(i+1))\n",
    "    \n",
    "    T=np.zeros((m+1,m+1)) #Making empty array\n",
    "    for i in range(m+1):\n",
    "        T[i,0]=Q[i] #Defining T_0_m = Q_m. We get T_0_2, T_0_4, T_0_8, ...\n",
    "    for i in range (m):\n",
    "        T[i, 1]=(4*Q[i+1]-Q[i])/3 #Defining T_1_m = (4Q_2m - Q_m)/3. We get T_1_2, T_1_4, T_1_8, ...\n",
    "    i=m-1\n",
    "    #Defining the recursion. See f.ex that T[0,2]=((4**2)*T[1,1]-T[0,2])/((4**2)-1), T[1,2]=((4**2)*T[2,1]-T[1,2])/((4**2)-1).\n",
    "    while i >= 1:\n",
    "        for x in range (i):\n",
    "            T[x,m-i+1]=((4**(m-i+1))*T[x+1,m-i]-T[x,m-i])/(4**(m-i+1)-1)\n",
    "        i -= 1\n",
    "    return (T)\n",
    "\n",
    "print(romberg(2,list1)[0,2]-actualvalue) #Gives an error value of 5.06 * 10^-9. Thus T_2_2, which has number of evaluations 2^(3)+1=9, is sufficient for f_1\n",
    "\n",
    "print(romberg(1,list2)[0,1]-actualvalue2) #Gives an error value of 1.69 * 10^-5. Thus T_1_2 with number of evaluations 2^(2)+1=5 is sufficient for f_2\n",
    "\n",
    "def legendreleggauss1(n):\n",
    "    v,w=np.polynomial.legendre.leggauss(n)\n",
    "    for i in range (n):\n",
    "        v[i] = ((v[i]+1)/2) #Changing roots from the interval (-1->1): adding 1 (0->2) and dividing by 2 (0->1)\n",
    "        w[i] = (w[i]/2) # dividing by 2 for the coefficients (The length of the interval is half that of a normal gauss-legendre)\n",
    "    q=[]\n",
    "    q.append(list1(v)) #Applying the function to the roots\n",
    "    q = q*w #Multiplying the function points by the coefficients\n",
    "    return(sum(sum(q))-actualvalue)\n",
    "\n",
    "def legendreleggauss2(n):\n",
    "    v,w=np.polynomial.legendre.leggauss(n)\n",
    "    for i in range (n):\n",
    "        v[i] = (((0.5)*v[i]+0.5)/2) #Same as before, but with a trick: Int(f_2) from (0->1) = 2 Int(f_2) from (0-1/2) by symmetry.\n",
    "        w[i] = (w[i]/4) #Dividing by 4, as we use 1/4th of the interval of [-1,1]\n",
    "    q=[]\n",
    "    q.append(list2(v))\n",
    "    q = (2*q)*w\n",
    "    return(sum(sum(q))-actualvalue2)\n",
    "    \n",
    "print(legendreleggauss1(4)) #Gives an error of -3.43e^-10 with number of function evaluations being only 4. Thus it performs far better than rombergs method for f_1\n",
    "\n",
    "print(legendreleggauss2(2)) #Gives an error of -1.13e^-5. Without changing the interval, we needed 46 points to achieve an error below 10^-4. A nice improvement! :)\n",
    "\n",
    "#Thus we needed 9 and 5 points to be evaluated using Rombergs Method, while Gauss-Legendre quadrature only required 4 and 2 points for an accurate approximation.\n",
    "    "
   ]
  }
 ],
 "metadata": {
  "kernelspec": {
   "display_name": "Python 3 (ipykernel)",
   "language": "python",
   "name": "python3"
  },
  "language_info": {
   "codemirror_mode": {
    "name": "ipython",
    "version": 3
   },
   "file_extension": ".py",
   "mimetype": "text/x-python",
   "name": "python",
   "nbconvert_exporter": "python",
   "pygments_lexer": "ipython3",
   "version": "3.9.7"
  }
 },
 "nbformat": 4,
 "nbformat_minor": 5
}
