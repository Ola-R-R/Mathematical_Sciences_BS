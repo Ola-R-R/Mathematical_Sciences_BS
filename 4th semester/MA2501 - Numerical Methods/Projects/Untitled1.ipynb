{
 "cells": [
  {
   "cell_type": "code",
   "execution_count": 2,
   "id": "6dade697",
   "metadata": {},
   "outputs": [],
   "source": [
    "import numpy as np\n",
    "from matplotlib import pyplot as plt"
   ]
  },
  {
   "cell_type": "code",
   "execution_count": 4,
   "id": "1ef94ab5",
   "metadata": {},
   "outputs": [],
   "source": [
    "def f(y):\n",
    "    F_dotx = 10 * (y[1] - y[0])\n",
    "    F_doty = y[0] * (28 - y[2]) - y[1]\n",
    "    F_dotz = y[0] * y[1] - (8/3) * y[2]\n",
    "    return np.array([F_dotx, F_doty, F_dotz]).reshape(3,1)"
   ]
  },
  {
   "cell_type": "code",
   "execution_count": 12,
   "id": "c4f6f13f",
   "metadata": {},
   "outputs": [
    {
     "name": "stdout",
     "output_type": "stream",
     "text": [
      "[[-10.]\n",
      " [ 28.]\n",
      " [  0.]]\n",
      "[[0.9975]\n",
      " [0.007 ]\n",
      " [0.    ]]\n",
      "[[-9.9050e+00]\n",
      " [ 2.7923e+01]\n",
      " [ 6.9825e-03]]\n",
      "[[9.950475e-01]\n",
      " [1.396150e-02]\n",
      " [3.491250e-06]]\n"
     ]
    }
   ],
   "source": [
    "print(f(np.array([1,0,0]).reshape(3,1)))\n",
    "\n",
    "print(np.array([1,0,0]).reshape(3,1) + 0.5 * 0.0005 * f(np.array([1,0,0]).reshape(3,1)))\n",
    "\n",
    "print(f(np.array([1,0,0]).reshape(3,1) + 0.5 * 0.0005 * f(np.array([1,0,0]).reshape(3,1))))\n",
    "\n",
    "print(np.array([1,0,0]).reshape(3,1) + 0.0005 * f(np.array([1,0,0]).reshape(3,1) + 0.5 * 0.0005 * f(np.array([1,0,0]).reshape(3,1))))"
   ]
  },
  {
   "cell_type": "code",
   "execution_count": null,
   "id": "cc1d80fd",
   "metadata": {},
   "outputs": [],
   "source": []
  },
  {
   "cell_type": "code",
   "execution_count": 14,
   "id": "5b92c76e",
   "metadata": {},
   "outputs": [],
   "source": [
    "def f1(x, y, z):\n",
    "    return 10 * (y - x)\n",
    "\n",
    "def f2(x, y, z):\n",
    "    return x * (28 - z) - y\n",
    "\n",
    "def f3(x, y, z):\n",
    "    return x * y - (8/3) * z"
   ]
  },
  {
   "cell_type": "code",
   "execution_count": 16,
   "id": "0bf8555e",
   "metadata": {},
   "outputs": [],
   "source": [
    "x = 1\n",
    "y = 0\n",
    "z = 0"
   ]
  },
  {
   "cell_type": "code",
   "execution_count": null,
   "id": "f374b5c1",
   "metadata": {},
   "outputs": [],
   "source": [
    "def mE(x,y,z,f1,f2,f3):\n",
    "    p1 = x + 0.0005 * f1(x + 0.5 * 0.0005 * f1(x,y,z), y + 0.5 * 0.0005 * f2(x,y,z), z + 0.5 * 0.0005 * f3(x,y,z))\n",
    "    p2 = y + 0.0005 * f2(x + 0.5 * 0.0005 * f1(x,y,z), y + 0.5 * 0.0005 * f1(x,y,z), z + 0.5 * 0.0005 * f1(x,y,z))\n",
    "    p3 = z + 0.0005 * f2(x + 0.5 * 0.0005 * f1(x,y,z), y + 0.5 * 0.0005 * f1(x,y,z), z + 0.5 * 0.0005 * f1(x,y,z))"
   ]
  }
 ],
 "metadata": {
  "kernelspec": {
   "display_name": "Python 3 (ipykernel)",
   "language": "python",
   "name": "python3"
  },
  "language_info": {
   "codemirror_mode": {
    "name": "ipython",
    "version": 3
   },
   "file_extension": ".py",
   "mimetype": "text/x-python",
   "name": "python",
   "nbconvert_exporter": "python",
   "pygments_lexer": "ipython3",
   "version": "3.9.7"
  }
 },
 "nbformat": 4,
 "nbformat_minor": 5
}
